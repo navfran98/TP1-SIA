{
 "cells": [
  {
   "cell_type": "code",
   "execution_count": null,
   "metadata": {},
   "outputs": [
    {
     "ename": "",
     "evalue": "",
     "output_type": "error",
     "traceback": [
      "\u001b[1;31mRunning cells with 'Python 3.9.4 64-bit' requires ipykernel package.\n",
      "\u001b[1;31mRun the following command to install 'ipykernel' into the Python environment. \n",
      "\u001b[1;31mCommand: 'c:/Users/Navis/AppData/Local/Programs/Python/Python39/python.exe -m pip install ipykernel -U --user --force-reinstall'"
     ]
    }
   ],
   "source": [
    "import pandas as pd\n",
    "import matplotlib.pyplot as plt\n",
    "import numpy as np\n",
    "import math\n",
    "import matplotlib.figure as fig"
   ]
  },
  {
   "cell_type": "code",
   "execution_count": null,
   "metadata": {},
   "outputs": [
    {
     "ename": "",
     "evalue": "",
     "output_type": "error",
     "traceback": [
      "\u001b[1;31mRunning cells with 'Python 3.9.4 64-bit' requires ipykernel package.\n",
      "\u001b[1;31mRun the following command to install 'ipykernel' into the Python environment. \n",
      "\u001b[1;31mCommand: 'c:/Users/Navis/AppData/Local/Programs/Python/Python39/python.exe -m pip install ipykernel -U --user --force-reinstall'"
     ]
    }
   ],
   "source": [
    "data_4x4_BFS = pd.read_csv('Files/4_1.csv')\n",
    "data_5x5_BFS = pd.read_csv('Files/5_1.csv')\n",
    "data_6x6_BFS = pd.read_csv('Files/6_1.csv')\n",
    "data_7x7_BFS = pd.read_csv('Files/7_1.csv')\n",
    "\n",
    "data_4x4_DFS = pd.read_csv('Files/4_2.csv')\n",
    "data_5x5_DFS = pd.read_csv('Files/5_2.csv')\n",
    "data_6x6_DFS = pd.read_csv('Files/6_2.csv')\n",
    "data_7x7_DFS = pd.read_csv('Files/7_2.csv')\n",
    "\n",
    "data_4x4_GREEDY = pd.read_csv('Files/4_3.csv')\n",
    "data_5x5_GREEDY = pd.read_csv('Files/5_3.csv')\n",
    "data_6x6_GREEDY = pd.read_csv('Files/6_3.csv')\n",
    "data_7x7_GREEDY = pd.read_csv('Files/7_3.csv')\n",
    "\n",
    "data_4x4_A = pd.read_csv('Files/4_4.csv')\n",
    "data_5x5_A = pd.read_csv('Files/5_4.csv')\n",
    "data_6x6_A = pd.read_csv('Files/6_4.csv')\n",
    "data_7x7_A = pd.read_csv('Files/7_4.csv')"
   ]
  },
  {
   "cell_type": "code",
   "execution_count": null,
   "metadata": {},
   "outputs": [
    {
     "ename": "",
     "evalue": "",
     "output_type": "error",
     "traceback": [
      "\u001b[1;31mRunning cells with 'Python 3.9.4 64-bit' requires ipykernel package.\n",
      "\u001b[1;31mRun the following command to install 'ipykernel' into the Python environment. \n",
      "\u001b[1;31mCommand: 'c:/Users/Navis/AppData/Local/Programs/Python/Python39/python.exe -m pip install ipykernel -U --user --force-reinstall'"
     ]
    }
   ],
   "source": [
    "algorithms = [\"BFS\", \"DFS\", \"Greedy\", \"A*\"]"
   ]
  }
 ],
 "metadata": {
  "kernelspec": {
   "display_name": "Python 3.9.4 64-bit",
   "language": "python",
   "name": "python3"
  },
  "language_info": {
   "name": "python",
   "version": "3.9.4"
  },
  "orig_nbformat": 4,
  "vscode": {
   "interpreter": {
    "hash": "56360932aa77e3cd036e4f7552421c4c38dcbb05c7375d0f959c31d55a932009"
   }
  }
 },
 "nbformat": 4,
 "nbformat_minor": 2
}
